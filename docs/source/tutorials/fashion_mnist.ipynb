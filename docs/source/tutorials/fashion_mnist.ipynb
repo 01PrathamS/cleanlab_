{
 "cells": [
  {
   "cell_type": "markdown",
   "metadata": {},
   "source": [
    "# Image tutorial for CLOS"
   ]
  },
  {
   "cell_type": "code",
   "execution_count": 1,
   "metadata": {},
   "outputs": [],
   "source": [
    "from torch.utils.data import DataLoader\n",
    "import torch\n",
    "import torch.nn as nn\n",
    "import torch.nn.functional as F\n",
    "import torch.optim as optim\n",
    "\n",
    "from sklearn.model_selection import KFold\n",
    "import numpy as np\n",
    "\n",
    "from tqdm.auto import tqdm\n",
    "\n",
    "from cleanlab import Datalab\n",
    "from datasets import load_dataset, concatenate_datasets"
   ]
  },
  {
   "cell_type": "markdown",
   "metadata": {},
   "source": [
    "### Neural network and helper methods for training"
   ]
  },
  {
   "cell_type": "code",
   "execution_count": 2,
   "metadata": {},
   "outputs": [],
   "source": [
    "# Set device\n",
    "device = torch.device(\"cuda\" if torch.cuda.is_available() else \"cpu\")\n",
    "\n",
    "# Set seed\n",
    "seed = 42\n",
    "torch.manual_seed(seed)\n",
    "\n",
    "# CNN net\n",
    "class Net(nn.Module):\n",
    "    def __init__(self):\n",
    "        super().__init__()\n",
    "        self.conv1 = nn.Conv2d(1, 6, 5)\n",
    "        self.pool = nn.MaxPool2d(2, 2)\n",
    "        self.conv2 = nn.Conv2d(6, 16, 5)\n",
    "        self.fc1 = nn.LazyLinear(120)\n",
    "        self.fc2 = nn.Linear(120, 84)\n",
    "        self.fc3 = nn.Linear(84, 10)\n",
    "\n",
    "    def forward(self, x):\n",
    "        x = self.pool(F.relu(self.conv1(x)))\n",
    "        x = self.pool(F.relu(self.conv2(x)))\n",
    "        x = torch.flatten(x, 1) # flatten all dimensions except batch\n",
    "        x = F.relu(self.fc1(x))\n",
    "        x = F.relu(self.fc2(x))\n",
    "        x = self.fc3(x)\n",
    "        return x\n",
    "    \n",
    "    def embeddings(self, x):\n",
    "        x = self.pool(F.relu(self.conv1(x)))\n",
    "        x = self.pool(F.relu(self.conv2(x)))\n",
    "        x = torch.flatten(x, 1) # flatten all dimensions except batch\n",
    "        x = F.relu(self.fc1(x))\n",
    "        x = F.relu(self.fc2(x))\n",
    "        return x \n",
    "\n",
    "# Method to calculate validation accuracy in each epoch\n",
    "def get_test_accuracy(net, testloader):\n",
    "    \n",
    "    net.eval()\n",
    "    accuracy = 0.0\n",
    "    total = 0.0\n",
    "    \n",
    "    with torch.no_grad():\n",
    "        for data in testloader:\n",
    "            images, labels = data['image'].to(device), data['label'].to(device)\n",
    "            # run the model on the test set to predict labels\n",
    "            outputs = net(images)\n",
    "            # the label with the highest energy will be our prediction\n",
    "            _, predicted = torch.max(outputs.data, 1)\n",
    "            total += labels.size(0)\n",
    "            accuracy += (predicted == labels).sum().item()\n",
    "    \n",
    "    # compute the accuracy over all test images\n",
    "    accuracy = (100 * accuracy / total)\n",
    "    return accuracy\n",
    "\n",
    "def train(trainloader, testloader, n_epochs, patience):\n",
    "        model = Net()\n",
    "        criterion = nn.CrossEntropyLoss()\n",
    "        optimizer = optim.SGD(model.parameters(), lr=0.001, momentum=0.9)\n",
    "        model = model.to(device)\n",
    "        \n",
    "        best_test_accuracy = 0.0\n",
    "        for epoch in range(n_epochs):  # loop over the dataset multiple times\n",
    "\n",
    "            running_loss = 0.0\n",
    "            \n",
    "            for _, data in enumerate(trainloader, 0):\n",
    "                # get the inputs; data is a list of [inputs, labels]\n",
    "                inputs, labels = data['image'].to(device), data['label'].to(device)\n",
    "\n",
    "                # zero the parameter gradients\n",
    "                optimizer.zero_grad()\n",
    "\n",
    "                # forward + backward + optimize\n",
    "                outputs = model(inputs)\n",
    "                loss = criterion(outputs, labels)\n",
    "                loss.backward()\n",
    "                optimizer.step()\n",
    "\n",
    "                # print statistics\n",
    "                running_loss += loss.item()\n",
    "            \n",
    "            accuracy = get_test_accuracy(model, testloader)\n",
    "            print(f'epoch: {epoch + 1} loss: {running_loss / len(trainloader):.3f} test acc: {accuracy}')\n",
    "            \n",
    "            running_loss = 0.0\n",
    "            \n",
    "            if  accuracy > best_test_accuracy:\n",
    "                best_epoch = epoch\n",
    "            \n",
    "            if epoch -  best_epoch > patience:\n",
    "                print(f'Early stopping at epoch {epoch + 1}')\n",
    "                break\n",
    "        return model"
   ]
  },
  {
   "cell_type": "markdown",
   "metadata": {},
   "source": [
    "### Download and preprocess dataset"
   ]
  },
  {
   "cell_type": "code",
   "execution_count": 3,
   "metadata": {},
   "outputs": [
    {
     "name": "stderr",
     "output_type": "stream",
     "text": [
      "Found cached dataset fashion_mnist (/home/sanjana/.cache/huggingface/datasets/fashion_mnist/fashion_mnist/1.0.0/0a671f063342996f19779d38c0ab4abef9c64f757b35af8134b331c294d7ba48)\n"
     ]
    },
    {
     "data": {
      "application/vnd.jupyter.widget-view+json": {
       "model_id": "b620b691cf4d4dc0a2a0dd7674e0d647",
       "version_major": 2,
       "version_minor": 0
      },
      "text/plain": [
       "  0%|          | 0/2 [00:00<?, ?it/s]"
      ]
     },
     "metadata": {},
     "output_type": "display_data"
    }
   ],
   "source": [
    "dataset = load_dataset(\"fashion_mnist\")\n",
    "dataset = concatenate_datasets(dataset.values())"
   ]
  },
  {
   "cell_type": "code",
   "execution_count": 4,
   "metadata": {},
   "outputs": [
    {
     "data": {
      "text/plain": [
       "Dataset({\n",
       "    features: ['image', 'label'],\n",
       "    num_rows: 70000\n",
       "})"
      ]
     },
     "execution_count": 4,
     "metadata": {},
     "output_type": "execute_result"
    }
   ],
   "source": [
    "dataset"
   ]
  },
  {
   "cell_type": "code",
   "execution_count": 5,
   "metadata": {},
   "outputs": [
    {
     "name": "stderr",
     "output_type": "stream",
     "text": [
      "Loading cached processed dataset at /home/sanjana/.cache/huggingface/datasets/fashion_mnist/fashion_mnist/1.0.0/0a671f063342996f19779d38c0ab4abef9c64f757b35af8134b331c294d7ba48/cache-56aacd3c8876f154.arrow\n"
     ]
    }
   ],
   "source": [
    "# Convert PIL image to torch tensors\n",
    "transformed_dataset = dataset.with_format('torch')\n",
    "\n",
    "# Apply transformations\n",
    "def normalize(example):\n",
    "    example['image'] = (example['image'] / 255.0).unsqueeze(0)\n",
    "    return example\n",
    "\n",
    "transformed_dataset = transformed_dataset.map(normalize)"
   ]
  },
  {
   "cell_type": "markdown",
   "metadata": {},
   "source": [
    "### Create K folds for cross validation"
   ]
  },
  {
   "cell_type": "code",
   "execution_count": 6,
   "metadata": {},
   "outputs": [],
   "source": [
    "nfolds = 3\n",
    "\n",
    "kfold = KFold(n_splits=nfolds, shuffle=True, random_state=seed)\n",
    "splits = kfold.split(transformed_dataset)"
   ]
  },
  {
   "cell_type": "code",
   "execution_count": 7,
   "metadata": {},
   "outputs": [],
   "source": [
    "train_id_list, test_id_list  = [], []\n",
    "\n",
    "for fold, (train_ids, test_ids) in enumerate(splits):\n",
    "    train_id_list.append(train_ids)\n",
    "    test_id_list.append(test_ids)"
   ]
  },
  {
   "cell_type": "markdown",
   "metadata": {},
   "source": [
    "### Train all the folds"
   ]
  },
  {
   "cell_type": "code",
   "execution_count": 8,
   "metadata": {},
   "outputs": [
    {
     "name": "stdout",
     "output_type": "stream",
     "text": [
      "Training on fold: 1\n"
     ]
    },
    {
     "name": "stderr",
     "output_type": "stream",
     "text": [
      "/home/sanjana/code/cleanlab/.venv/lib/python3.10/site-packages/torch/nn/modules/lazy.py:180: UserWarning: Lazy modules are a new feature under heavy development so changes to the API or functionality can happen at any moment.\n",
      "  warnings.warn('Lazy modules are a new feature under heavy development '\n"
     ]
    },
    {
     "name": "stdout",
     "output_type": "stream",
     "text": [
      "epoch: 1 loss: 0.789 test acc: 82.15908116910946\n",
      "epoch: 2 loss: 0.460 test acc: 84.87614639581726\n",
      "epoch: 3 loss: 0.389 test acc: 86.20467986628954\n",
      "Training on fold: 2\n",
      "epoch: 1 loss: 0.823 test acc: 79.97685681224017\n",
      "epoch: 2 loss: 0.449 test acc: 84.90121287446964\n",
      "epoch: 3 loss: 0.380 test acc: 87.01838597694253\n",
      "Training on fold: 3\n",
      "epoch: 1 loss: 0.772 test acc: 82.17545964942356\n",
      "epoch: 2 loss: 0.457 test acc: 84.93121330304719\n",
      "epoch: 3 loss: 0.385 test acc: 85.87836969099558\n",
      "Finished Training\n"
     ]
    }
   ],
   "source": [
    "models = []\n",
    "\n",
    "n_epochs = 3\n",
    "patience = 2\n",
    "batch_size = 4\n",
    "\n",
    "for i in range(nfolds):\n",
    "    print(f\"Training on fold: {i+1}\")\n",
    "    \n",
    "    # Create train and test sets and corresponding dataloaders\n",
    "    trainset = transformed_dataset.select(train_id_list[i])\n",
    "    testset = transformed_dataset.select(test_id_list[i])\n",
    "    \n",
    "    trainloader = DataLoader(trainset, batch_size=batch_size, shuffle=True, num_workers=2)\n",
    "    testloader = DataLoader(testset, batch_size=batch_size, shuffle=False, num_workers=2)\n",
    "    \n",
    "    model = train(trainloader, testloader, n_epochs, patience)\n",
    "    models.append(model)\n",
    "print('Finished Training')"
   ]
  },
  {
   "cell_type": "markdown",
   "metadata": {},
   "source": [
    "### Compute out of sample pred_probs and feature embeddings"
   ]
  },
  {
   "cell_type": "code",
   "execution_count": 9,
   "metadata": {},
   "outputs": [
    {
     "data": {
      "application/vnd.jupyter.widget-view+json": {
       "model_id": "a3f0e07153c048b688959f385d963cc6",
       "version_major": 2,
       "version_minor": 0
      },
      "text/plain": [
       "  0%|          | 0/5834 [00:00<?, ?it/s]"
      ]
     },
     "metadata": {},
     "output_type": "display_data"
    },
    {
     "data": {
      "application/vnd.jupyter.widget-view+json": {
       "model_id": "9a17c8d39d8e4fa8aa2e47d313a3e7e9",
       "version_major": 2,
       "version_minor": 0
      },
      "text/plain": [
       "  0%|          | 0/5834 [00:00<?, ?it/s]"
      ]
     },
     "metadata": {},
     "output_type": "display_data"
    },
    {
     "data": {
      "application/vnd.jupyter.widget-view+json": {
       "model_id": "ae555645d7444ead8b427b2b87d85bd3",
       "version_major": 2,
       "version_minor": 0
      },
      "text/plain": [
       "  0%|          | 0/5834 [00:00<?, ?it/s]"
      ]
     },
     "metadata": {},
     "output_type": "display_data"
    }
   ],
   "source": [
    "pred_probs_list = []\n",
    "embeddings_list = []\n",
    "\n",
    "with torch.no_grad():\n",
    "    for i in range(nfolds):\n",
    "        testset = transformed_dataset.select(test_id_list[i])\n",
    "        testloader = DataLoader(testset, batch_size=batch_size, shuffle=False, num_workers=2)\n",
    "\n",
    "        net = models[i].to(device)\n",
    "        fold_pred_probs, fold_embeddings = [], []\n",
    "    \n",
    "        for data in tqdm(testloader):\n",
    "            images, labels = data['image'].to(device), data['label'].to(device)\n",
    "\n",
    "            outputs = net(images)\n",
    "            embeddings = net.embeddings(images)\n",
    "\n",
    "            fold_pred_probs.append(outputs.cpu())\n",
    "            fold_embeddings.append(embeddings.cpu())\n",
    "        \n",
    "        pred_probs_list.append(torch.vstack(fold_pred_probs))\n",
    "        embeddings_list.append(torch.vstack(fold_embeddings))\n",
    "\n",
    "\n",
    "# Concatenate features and pred_probs\n",
    "features = torch.vstack(embeddings_list).numpy()\n",
    "\n",
    "logits = torch.vstack(pred_probs_list)\n",
    "pred_probs = nn.Softmax(dim=1)(logits).numpy()"
   ]
  },
  {
   "cell_type": "markdown",
   "metadata": {},
   "source": [
    "### Post processing of the dataset"
   ]
  },
  {
   "cell_type": "code",
   "execution_count": 10,
   "metadata": {},
   "outputs": [],
   "source": [
    "# Order dataset rows according to the row order in features and pred_probs\n",
    "indices = np.hstack(test_id_list)\n",
    "dataset = dataset.select(indices)"
   ]
  },
  {
   "cell_type": "markdown",
   "metadata": {},
   "source": [
    "## Find issues using Cleanlab"
   ]
  },
  {
   "cell_type": "code",
   "execution_count": 11,
   "metadata": {},
   "outputs": [
    {
     "name": "stdout",
     "output_type": "stream",
     "text": [
      "Finding label issues ...\n",
      "Finding outlier issues ...\n",
      "Fitting OOD estimator based on provided features ...\n",
      "Finding near_duplicate issues ...\n",
      "Finding non_iid issues ...\n",
      "Finding dark, light, low_information, odd_aspect_ratio, odd_size, grayscale, blurry images ...\n"
     ]
    },
    {
     "data": {
      "application/vnd.jupyter.widget-view+json": {
       "model_id": "0032a7a671574e21a3dbfaa106c98a05",
       "version_major": 2,
       "version_minor": 0
      },
      "text/plain": [
       "  0%|          | 0/70000 [00:00<?, ?it/s]"
      ]
     },
     "metadata": {},
     "output_type": "display_data"
    },
    {
     "name": "stdout",
     "output_type": "stream",
     "text": [
      "\n",
      "Audit complete. 93979 issues found in the dataset.\n"
     ]
    }
   ],
   "source": [
    "lab = Datalab(data=dataset, label_name=\"label\", image_key=\"image\")\n",
    "lab.find_issues(features=features, pred_probs=pred_probs)"
   ]
  },
  {
   "cell_type": "markdown",
   "metadata": {},
   "source": [
    "### View report"
   ]
  },
  {
   "cell_type": "code",
   "execution_count": 12,
   "metadata": {},
   "outputs": [
    {
     "name": "stdout",
     "output_type": "stream",
     "text": [
      "Here is a summary of the different kinds of issues found in the data:\n",
      "\n",
      "      issue_type  num_issues\n",
      "       grayscale       70000\n",
      " low_information       10775\n",
      "         outlier        5827\n",
      "           label        4713\n",
      "  near_duplicate        2640\n",
      "            dark          23\n",
      "         non_iid           1\n",
      "          blurry           0\n",
      "           light           0\n",
      "odd_aspect_ratio           0\n",
      "        odd_size           0\n",
      "\n",
      "Dataset Information: num_examples: 70000, num_classes: 10\n",
      "\n",
      "\n",
      "---------------------- outlier issues ----------------------\n",
      "\n",
      "Number of examples with this issue: 5827\n",
      "Overall dataset quality in terms of this issue: 0.9858\n",
      "\n",
      "Examples representing most severe instances of this issue:\n",
      "       is_outlier_issue  outlier_score\n",
      "12085              True       0.760302\n",
      "29595              True       0.762832\n",
      "56650              True       0.779027\n",
      "44484              True       0.781130\n",
      "45029              True       0.784329\n",
      "\n",
      "\n",
      "----------------------- label issues -----------------------\n",
      "\n",
      "Number of examples with this issue: 4713\n",
      "Overall dataset quality in terms of this issue: 0.9312\n",
      "\n",
      "Examples representing most severe instances of this issue:\n",
      "       is_label_issue  label_score      given_label predicted_label\n",
      "35959            True     0.000001             Coat             Bag\n",
      "62916            True     0.000002  T - shirt / top             Bag\n",
      "67650            True     0.000008              Bag         Trouser\n",
      "19250            True     0.000009            Dress        Pullover\n",
      "54312            True     0.000011  T - shirt / top             Bag\n",
      "\n",
      "\n",
      "------------------ near_duplicate issues -------------------\n",
      "\n",
      "Number of examples with this issue: 2640\n",
      "Overall dataset quality in terms of this issue: 0.0093\n",
      "\n",
      "Examples representing most severe instances of this issue:\n",
      "       is_near_duplicate_issue  near_duplicate_score near_duplicate_sets  distance_to_nearest_neighbor\n",
      "23579                     True              0.000001      [33068, 30402]                      0.000001\n",
      "33068                     True              0.000001      [23579, 30402]                      0.000001\n",
      "30402                     True              0.000007      [33068, 23579]                      0.000007\n",
      "45022                     True              0.000010             [27849]                      0.000010\n",
      "27849                     True              0.000010             [45022]                      0.000010\n",
      "\n",
      "\n",
      "---------------------- non_iid issues ----------------------\n",
      "\n",
      "Number of examples with this issue: 1\n",
      "Overall dataset quality in terms of this issue: 0.0000\n",
      "\n",
      "Examples representing most severe instances of this issue:\n",
      "       is_non_iid_issue  non_iid_score\n",
      "3066               True       0.588323\n",
      "36258             False       0.588450\n",
      "67813             False       0.588513\n",
      "1876              False       0.590684\n",
      "68293             False       0.592695\n",
      "\n",
      "Additional Information: \n",
      "p-value: 0.0\n",
      "\n",
      "\n",
      "\n",
      "Removing grayscale from potential issues in the dataset as it exceeds max_prevalence=0.5 \n",
      "------------------ low_information images ------------------\n",
      "\n",
      "Number of examples with this issue: 10775\n",
      "Examples representing most severe instances of this issue:\n",
      "\n"
     ]
    },
    {
     "data": {
      "image/png": "[encoded data removed]",
      "text/plain": [
       "<Figure size 800x400 with 8 Axes>"
      ]
     },
     "metadata": {},
     "output_type": "display_data"
    },
    {
     "name": "stdout",
     "output_type": "stream",
     "text": [
      "----------------------- dark images ------------------------\n",
      "\n",
      "Number of examples with this issue: 23\n",
      "Examples representing most severe instances of this issue:\n",
      "\n"
     ]
    },
    {
     "data": {
      "image/png": "[encoded data removed]",
      "text/plain": [
       "<Figure size 800x400 with 8 Axes>"
      ]
     },
     "metadata": {},
     "output_type": "display_data"
    }
   ],
   "source": [
    "lab.report(include_description=False)"
   ]
  },
  {
   "cell_type": "markdown",
   "metadata": {},
   "source": [
    "## Visualizing issues\n",
    "\n",
    "### 1. Label issues"
   ]
  },
  {
   "cell_type": "code",
   "execution_count": 13,
   "metadata": {},
   "outputs": [
    {
     "data": {
      "text/html": [
       "<div>\n",
       "<style scoped>\n",
       "    .dataframe tbody tr th:only-of-type {\n",
       "        vertical-align: middle;\n",
       "    }\n",
       "\n",
       "    .dataframe tbody tr th {\n",
       "        vertical-align: top;\n",
       "    }\n",
       "\n",
       "    .dataframe thead th {\n",
       "        text-align: right;\n",
       "    }\n",
       "</style>\n",
       "<table border=\"1\" class=\"dataframe\">\n",
       "  <thead>\n",
       "    <tr style=\"text-align: right;\">\n",
       "      <th></th>\n",
       "      <th>is_label_issue</th>\n",
       "      <th>label_score</th>\n",
       "      <th>given_label</th>\n",
       "      <th>predicted_label</th>\n",
       "    </tr>\n",
       "  </thead>\n",
       "  <tbody>\n",
       "    <tr>\n",
       "      <th>35959</th>\n",
       "      <td>True</td>\n",
       "      <td>0.000001</td>\n",
       "      <td>Coat</td>\n",
       "      <td>Bag</td>\n",
       "    </tr>\n",
       "    <tr>\n",
       "      <th>62916</th>\n",
       "      <td>True</td>\n",
       "      <td>0.000002</td>\n",
       "      <td>T - shirt / top</td>\n",
       "      <td>Bag</td>\n",
       "    </tr>\n",
       "    <tr>\n",
       "      <th>67650</th>\n",
       "      <td>True</td>\n",
       "      <td>0.000008</td>\n",
       "      <td>Bag</td>\n",
       "      <td>Trouser</td>\n",
       "    </tr>\n",
       "    <tr>\n",
       "      <th>19250</th>\n",
       "      <td>True</td>\n",
       "      <td>0.000009</td>\n",
       "      <td>Dress</td>\n",
       "      <td>Pullover</td>\n",
       "    </tr>\n",
       "    <tr>\n",
       "      <th>54312</th>\n",
       "      <td>True</td>\n",
       "      <td>0.000011</td>\n",
       "      <td>T - shirt / top</td>\n",
       "      <td>Bag</td>\n",
       "    </tr>\n",
       "  </tbody>\n",
       "</table>\n",
       "</div>"
      ],
      "text/plain": [
       "       is_label_issue  label_score      given_label predicted_label\n",
       "35959            True     0.000001             Coat             Bag\n",
       "62916            True     0.000002  T - shirt / top             Bag\n",
       "67650            True     0.000008              Bag         Trouser\n",
       "19250            True     0.000009            Dress        Pullover\n",
       "54312            True     0.000011  T - shirt / top             Bag"
      ]
     },
     "execution_count": 13,
     "metadata": {},
     "output_type": "execute_result"
    }
   ],
   "source": [
    "label_issues_df = lab.get_issues(\"label\")\n",
    "label_issues_df = label_issues_df[label_issues_df['is_label_issue'] == True].sort_values('label_score')\n",
    "label_issues_df.head()"
   ]
  },
  {
   "cell_type": "code",
   "execution_count": 47,
   "metadata": {},
   "outputs": [],
   "source": [
    "import matplotlib.pyplot as plt\n",
    "\n",
    "id2label = dataset.features['label'].names"
   ]
  },
  {
   "cell_type": "code",
   "execution_count": 48,
   "metadata": {},
   "outputs": [],
   "source": [
    "def plot_label_issue_examples(label_issues_df, nrows=1, ncols=1):\n",
    "    count = 0\n",
    "    for idx, row in label_issues_df.iterrows():\n",
    "        plt.subplot(nrows, ncols, count + 1)\n",
    "        plt.imshow(dataset[idx]['image'], cmap=\"gray\")\n",
    "        plt.title(f\"id: {idx}\\n GL: {row['given_label']}\\n SL: {row['predicted_label']}\", fontdict={\"fontsize\": 8})\n",
    "        plt.axis(\"off\")\n",
    "        count += 1\n",
    "        if count >= nrows * ncols:\n",
    "            break\n",
    "\n",
    "    plt.tight_layout(h_pad=2.0)"
   ]
  },
  {
   "cell_type": "code",
   "execution_count": 50,
   "metadata": {},
   "outputs": [
    {
     "data": {
      "image/png": "[encoded data removed]",
      "text/plain": [
       "<Figure size 640x480 with 15 Axes>"
      ]
     },
     "metadata": {},
     "output_type": "display_data"
    }
   ],
   "source": [
    "plot_label_issue_examples(label_issues_df, 3, 5)"
   ]
  },
  {
   "cell_type": "code",
   "execution_count": 54,
   "metadata": {},
   "outputs": [
    {
     "data": {
      "text/html": [
       "<div>\n",
       "<style scoped>\n",
       "    .dataframe tbody tr th:only-of-type {\n",
       "        vertical-align: middle;\n",
       "    }\n",
       "\n",
       "    .dataframe tbody tr th {\n",
       "        vertical-align: top;\n",
       "    }\n",
       "\n",
       "    .dataframe thead th {\n",
       "        text-align: right;\n",
       "    }\n",
       "</style>\n",
       "<table border=\"1\" class=\"dataframe\">\n",
       "  <thead>\n",
       "    <tr style=\"text-align: right;\">\n",
       "      <th></th>\n",
       "      <th>is_outlier_issue</th>\n",
       "      <th>outlier_score</th>\n",
       "    </tr>\n",
       "  </thead>\n",
       "  <tbody>\n",
       "    <tr>\n",
       "      <th>12085</th>\n",
       "      <td>True</td>\n",
       "      <td>0.760302</td>\n",
       "    </tr>\n",
       "    <tr>\n",
       "      <th>29595</th>\n",
       "      <td>True</td>\n",
       "      <td>0.762832</td>\n",
       "    </tr>\n",
       "    <tr>\n",
       "      <th>56650</th>\n",
       "      <td>True</td>\n",
       "      <td>0.779027</td>\n",
       "    </tr>\n",
       "    <tr>\n",
       "      <th>44484</th>\n",
       "      <td>True</td>\n",
       "      <td>0.781130</td>\n",
       "    </tr>\n",
       "    <tr>\n",
       "      <th>45029</th>\n",
       "      <td>True</td>\n",
       "      <td>0.784329</td>\n",
       "    </tr>\n",
       "  </tbody>\n",
       "</table>\n",
       "</div>"
      ],
      "text/plain": [
       "       is_outlier_issue  outlier_score\n",
       "12085              True       0.760302\n",
       "29595              True       0.762832\n",
       "56650              True       0.779027\n",
       "44484              True       0.781130\n",
       "45029              True       0.784329"
      ]
     },
     "execution_count": 54,
     "metadata": {},
     "output_type": "execute_result"
    }
   ],
   "source": [
    "outlier_issues_df = lab.get_issues(\"outlier\")\n",
    "outlier_issues_df = outlier_issues_df[outlier_issues_df['is_outlier_issue'] == True].sort_values('outlier_score')\n",
    "outlier_issues_df.head()"
   ]
  },
  {
   "cell_type": "code",
   "execution_count": 101,
   "metadata": {},
   "outputs": [],
   "source": [
    "def plot_outlier_issue_examples(label_issues_df, nrows=1, ncols=1):\n",
    "    label_issues = lab.get_issues('label')\n",
    "    \n",
    "    count = 0\n",
    "    for idx, row in label_issues_df.iterrows():\n",
    "        label_row = label_issues.loc[idx]\n",
    "        plt.subplot(nrows, ncols, count + 1)\n",
    "        plt.imshow(dataset[idx]['image'], cmap=\"gray\")\n",
    "        plt.title(f\"id: {idx}\\n label: {label_row['given_label']}\", fontdict={\"fontsize\": 8})\n",
    "        plt.axis(\"off\")\n",
    "        count += 1\n",
    "        if count >= nrows * ncols:\n",
    "            break\n",
    "\n",
    "    plt.tight_layout(h_pad=2.0)"
   ]
  },
  {
   "cell_type": "code",
   "execution_count": 102,
   "metadata": {},
   "outputs": [
    {
     "data": {
      "image/png": "[encoded data removed]",
      "text/plain": [
       "<Figure size 640x480 with 15 Axes>"
      ]
     },
     "metadata": {},
     "output_type": "display_data"
    }
   ],
   "source": [
    "plot_outlier_issue_examples(outlier_issues_df, 3, 5)"
   ]
  },
  {
   "cell_type": "code",
   "execution_count": 119,
   "metadata": {},
   "outputs": [
    {
     "data": {
      "text/html": [
       "<div>\n",
       "<style scoped>\n",
       "    .dataframe tbody tr th:only-of-type {\n",
       "        vertical-align: middle;\n",
       "    }\n",
       "\n",
       "    .dataframe tbody tr th {\n",
       "        vertical-align: top;\n",
       "    }\n",
       "\n",
       "    .dataframe thead th {\n",
       "        text-align: right;\n",
       "    }\n",
       "</style>\n",
       "<table border=\"1\" class=\"dataframe\">\n",
       "  <thead>\n",
       "    <tr style=\"text-align: right;\">\n",
       "      <th></th>\n",
       "      <th>is_near_duplicate_issue</th>\n",
       "      <th>near_duplicate_score</th>\n",
       "      <th>near_duplicate_sets</th>\n",
       "      <th>distance_to_nearest_neighbor</th>\n",
       "    </tr>\n",
       "  </thead>\n",
       "  <tbody>\n",
       "    <tr>\n",
       "      <th>33068</th>\n",
       "      <td>True</td>\n",
       "      <td>0.000001</td>\n",
       "      <td>[23579, 30402]</td>\n",
       "      <td>0.000001</td>\n",
       "    </tr>\n",
       "    <tr>\n",
       "      <th>23579</th>\n",
       "      <td>True</td>\n",
       "      <td>0.000001</td>\n",
       "      <td>[33068, 30402]</td>\n",
       "      <td>0.000001</td>\n",
       "    </tr>\n",
       "    <tr>\n",
       "      <th>30402</th>\n",
       "      <td>True</td>\n",
       "      <td>0.000007</td>\n",
       "      <td>[33068, 23579]</td>\n",
       "      <td>0.000007</td>\n",
       "    </tr>\n",
       "    <tr>\n",
       "      <th>45022</th>\n",
       "      <td>True</td>\n",
       "      <td>0.000010</td>\n",
       "      <td>[27849]</td>\n",
       "      <td>0.000010</td>\n",
       "    </tr>\n",
       "    <tr>\n",
       "      <th>27849</th>\n",
       "      <td>True</td>\n",
       "      <td>0.000010</td>\n",
       "      <td>[45022]</td>\n",
       "      <td>0.000010</td>\n",
       "    </tr>\n",
       "  </tbody>\n",
       "</table>\n",
       "</div>"
      ],
      "text/plain": [
       "       is_near_duplicate_issue  near_duplicate_score near_duplicate_sets  \\\n",
       "33068                     True              0.000001      [23579, 30402]   \n",
       "23579                     True              0.000001      [33068, 30402]   \n",
       "30402                     True              0.000007      [33068, 23579]   \n",
       "45022                     True              0.000010             [27849]   \n",
       "27849                     True              0.000010             [45022]   \n",
       "\n",
       "       distance_to_nearest_neighbor  \n",
       "33068                      0.000001  \n",
       "23579                      0.000001  \n",
       "30402                      0.000007  \n",
       "45022                      0.000010  \n",
       "27849                      0.000010  "
      ]
     },
     "execution_count": 119,
     "metadata": {},
     "output_type": "execute_result"
    }
   ],
   "source": [
    "near_duplicate_issues_df = lab.get_issues(\"near_duplicate\")\n",
    "near_duplicate_issues_df = near_duplicate_issues_df[near_duplicate_issues_df['is_near_duplicate_issue'] == True].sort_values('near_duplicate_score')\n",
    "near_duplicate_issues_df.head()"
   ]
  },
  {
   "cell_type": "code",
   "execution_count": 135,
   "metadata": {},
   "outputs": [],
   "source": [
    "def plot_nd_issue_examples(nd_issues_df, nrows=1, ncols=1):\n",
    "    count = 0\n",
    "    for idx, row in nd_issues_df.iterrows():\n",
    "        print(count)\n",
    "        nd_indices = [idx]\n",
    "        nd_indices.extend(row['near_duplicate_sets'])\n",
    "\n",
    "        print(nd_indices)\n",
    "        sub_count = 0\n",
    "        for nd_idx in nd_indices:\n",
    "            nd_idx = int(nd_idx)\n",
    "            plt.subplot(1, len(nd_indices), sub_count + 1)\n",
    "            plt.imshow(dataset[nd_idx]['image'], cmap=\"gray\")\n",
    "            plt.title(f\"id: {nd_idx}\", fontdict={\"fontsize\": 8})\n",
    "            plt.axis(\"off\")\n",
    "            sub_count += 1\n",
    "        \n",
    "        count += 1\n",
    "        if count >= nrows:\n",
    "            break\n",
    "    plt.tight_layout(h_pad=2.0)"
   ]
  },
  {
   "cell_type": "code",
   "execution_count": 136,
   "metadata": {},
   "outputs": [
    {
     "name": "stdout",
     "output_type": "stream",
     "text": [
      "0\n",
      "[33068, 23579, 30402]\n",
      "1\n",
      "[23579, 33068, 30402]\n",
      "2\n",
      "[30402, 33068, 23579]\n"
     ]
    },
    {
     "data": {
      "image/png": "[encoded data removed]",
      "text/plain": [
       "<Figure size 640x480 with 3 Axes>"
      ]
     },
     "metadata": {},
     "output_type": "display_data"
    }
   ],
   "source": [
    "plot_nd_issue_examples(near_duplicate_issues_df, nrows=3)"
   ]
  }
 ],
 "metadata": {
  "kernelspec": {
   "display_name": ".venv",
   "language": "python",
   "name": "python3"
  },
  "language_info": {
   "codemirror_mode": {
    "name": "ipython",
    "version": 3
   },
   "file_extension": ".py",
   "mimetype": "text/x-python",
   "name": "python",
   "nbconvert_exporter": "python",
   "pygments_lexer": "ipython3",
   "version": "3.10.4"
  },
  "orig_nbformat": 4
 },
 "nbformat": 4,
 "nbformat_minor": 2
}
